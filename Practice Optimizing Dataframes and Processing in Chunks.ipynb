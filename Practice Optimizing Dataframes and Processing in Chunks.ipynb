{
 "cells": [
  {
   "cell_type": "markdown",
   "metadata": {
    "collapsed": false
   },
   "source": [
    "Read in file\n",
    "=="
   ]
  },
  {
   "cell_type": "code",
   "execution_count": 1,
   "metadata": {
    "collapsed": false
   },
   "outputs": [
    {
     "data": {
      "text/plain": [
       "1.1902618408203125"
      ]
     },
     "execution_count": 1,
     "metadata": {},
     "output_type": "execute_result"
    }
   ],
   "source": [
    "import pandas as pd\n",
    "pd.options.display.max_columns = 99\n",
    "five_rows = pd.read_csv(\"loans_2007.csv\", nrows=5)\n",
    "#print(five_rows)\n",
    "thous_rows = pd.read_csv(\"loans_2007.csv\", nrows=3000)\n",
    "thous_rows.memory_usage().sum()/(1024*1024)"
   ]
  },
  {
   "cell_type": "markdown",
   "metadata": {},
   "source": [
    "Exploring The Data In Chunk\n",
    "==\n",
    "**How many columns have a numeric type? How many have a string type?**"
   ]
  },
  {
   "cell_type": "code",
   "execution_count": 2,
   "metadata": {
    "collapsed": false
   },
   "outputs": [
    {
     "name": "stdout",
     "output_type": "stream",
     "text": [
      "float64    30\n",
      "object     21\n",
      "int64       1\n",
      "dtype: int64\n",
      "float64    30\n",
      "object     21\n",
      "int64       1\n",
      "dtype: int64\n",
      "float64    30\n",
      "object     21\n",
      "int64       1\n",
      "dtype: int64\n",
      "float64    30\n",
      "object     21\n",
      "int64       1\n",
      "dtype: int64\n",
      "float64    30\n",
      "object     21\n",
      "int64       1\n",
      "dtype: int64\n",
      "float64    30\n",
      "object     21\n",
      "int64       1\n",
      "dtype: int64\n",
      "float64    30\n",
      "object     21\n",
      "int64       1\n",
      "dtype: int64\n",
      "float64    30\n",
      "object     21\n",
      "int64       1\n",
      "dtype: int64\n",
      "float64    30\n",
      "object     21\n",
      "int64       1\n",
      "dtype: int64\n",
      "float64    30\n",
      "object     21\n",
      "int64       1\n",
      "dtype: int64\n",
      "float64    30\n",
      "object     21\n",
      "int64       1\n",
      "dtype: int64\n",
      "float64    30\n",
      "object     21\n",
      "int64       1\n",
      "dtype: int64\n",
      "float64    30\n",
      "object     21\n",
      "int64       1\n",
      "dtype: int64\n",
      "float64    30\n",
      "object     21\n",
      "int64       1\n",
      "dtype: int64\n",
      "float64    30\n",
      "object     21\n",
      "int64       1\n",
      "dtype: int64\n",
      "float64    30\n",
      "object     21\n",
      "int64       1\n",
      "dtype: int64\n",
      "float64    30\n",
      "object     21\n",
      "int64       1\n",
      "dtype: int64\n",
      "float64    30\n",
      "object     21\n",
      "int64       1\n",
      "dtype: int64\n",
      "float64    30\n",
      "object     21\n",
      "int64       1\n",
      "dtype: int64\n",
      "float64    30\n",
      "object     21\n",
      "int64       1\n",
      "dtype: int64\n",
      "float64    30\n",
      "object     21\n",
      "int64       1\n",
      "dtype: int64\n",
      "float64    30\n",
      "object     21\n",
      "int64       1\n",
      "dtype: int64\n",
      "float64    30\n",
      "object     21\n",
      "int64       1\n",
      "dtype: int64\n",
      "float64    30\n",
      "object     21\n",
      "int64       1\n",
      "dtype: int64\n",
      "float64    30\n",
      "object     21\n",
      "int64       1\n",
      "dtype: int64\n",
      "float64    30\n",
      "object     21\n",
      "int64       1\n",
      "dtype: int64\n",
      "float64    30\n",
      "object     21\n",
      "int64       1\n",
      "dtype: int64\n",
      "float64    30\n",
      "object     21\n",
      "int64       1\n",
      "dtype: int64\n",
      "float64    30\n",
      "object     21\n",
      "int64       1\n",
      "dtype: int64\n",
      "float64    30\n",
      "object     21\n",
      "int64       1\n",
      "dtype: int64\n",
      "float64    30\n",
      "object     21\n",
      "int64       1\n",
      "dtype: int64\n",
      "float64    30\n",
      "object     21\n",
      "int64       1\n",
      "dtype: int64\n",
      "float64    30\n",
      "object     21\n",
      "int64       1\n",
      "dtype: int64\n",
      "float64    30\n",
      "object     21\n",
      "int64       1\n",
      "dtype: int64\n",
      "float64    30\n",
      "object     21\n",
      "int64       1\n",
      "dtype: int64\n",
      "float64    30\n",
      "object     21\n",
      "int64       1\n",
      "dtype: int64\n",
      "float64    30\n",
      "object     21\n",
      "int64       1\n",
      "dtype: int64\n",
      "float64    30\n",
      "object     21\n",
      "int64       1\n",
      "dtype: int64\n",
      "float64    30\n",
      "object     21\n",
      "int64       1\n",
      "dtype: int64\n",
      "float64    30\n",
      "object     22\n",
      "dtype: int64\n",
      "float64    30\n",
      "object     21\n",
      "int64       1\n",
      "dtype: int64\n",
      "float64    30\n",
      "object     21\n",
      "int64       1\n",
      "dtype: int64\n",
      "float64    30\n",
      "object     22\n",
      "dtype: int64\n"
     ]
    }
   ],
   "source": [
    "chunks = pd.read_csv(\"loans_2007.csv\", chunksize=1000)\n",
    "for c in chunks:\n",
    "    print(c.dtypes.value_counts())"
   ]
  },
  {
   "cell_type": "markdown",
   "metadata": {
    "collapsed": true
   },
   "source": [
    "**How many unique values are there in each string column?**"
   ]
  },
  {
   "cell_type": "code",
   "execution_count": 3,
   "metadata": {
    "collapsed": false
   },
   "outputs": [
    {
     "name": "stdout",
     "output_type": "stream",
     "text": [
      "verification_status : 43\n",
      "home_ownership : 52\n",
      "last_pymnt_d : 911\n",
      "term : 27\n",
      "earliest_cr_line : 5537\n",
      "loan_status : 58\n",
      "last_credit_pull_d : 1078\n",
      "id : 3538\n",
      "grade : 105\n",
      "emp_length : 177\n",
      "sub_grade : 522\n",
      "pymnt_plan : 16\n",
      "addr_state : 653\n",
      "zip_code : 8117\n",
      "purpose : 201\n",
      "application_type : 15\n",
      "int_rate : 1124\n",
      "emp_title : 36960\n",
      "issue_d : 113\n",
      "revol_util : 13590\n",
      "initial_list_status : 15\n",
      "title : 26924\n"
     ]
    }
   ],
   "source": [
    "chunks = pd.read_csv('loans_2007.csv', chunksize=3000)\n",
    "col_count = {}\n",
    "combined_count = {}\n",
    "rows = 0\n",
    "for c in chunks:\n",
    "    str_cols = c.select_dtypes(include=['object'])\n",
    "    rows += len(str_cols)\n",
    "    for s in str_cols.columns:\n",
    "        chunk_col_count = str_cols[s].value_counts()\n",
    "        if s in col_count:\n",
    "            col_count[s].append(chunk_col_count)\n",
    "        else:\n",
    "            col_count[s] = [chunk_col_count]\n",
    "\n",
    "for s in col_count:\n",
    "    combined_count[s] = pd.concat(col_count[s])\n",
    "for key in combined_count.keys():\n",
    "    print(key,\":\",len(combined_count[key]))"
   ]
  },
  {
   "cell_type": "markdown",
   "metadata": {
    "collapsed": false
   },
   "source": [
    "**Which float columns have no missing values and could be candidates for conversion to the integer type?**"
   ]
  },
  {
   "cell_type": "code",
   "execution_count": 4,
   "metadata": {
    "collapsed": false
   },
   "outputs": [
    {
     "name": "stdout",
     "output_type": "stream",
     "text": [
      "{'dti': 3, 'pub_rec_bankruptcies': 1368, 'acc_now_delinq': 32, 'collection_recovery_fee': 3, 'funded_amnt_inv': 3, 'total_pymnt': 3, 'loan_amnt': 3, 'total_acc': 32, 'member_id': 3, 'recoveries': 3, 'pub_rec': 32, 'out_prncp_inv': 3, 'last_pymnt_amnt': 3, 'open_acc': 32, 'collections_12_mths_ex_med': 148, 'delinq_2yrs': 32, 'policy_code': 3, 'annual_inc': 7, 'chargeoff_within_12_mths': 148, 'revol_bal': 3, 'tax_liens': 108, 'total_pymnt_inv': 3, 'out_prncp': 3, 'funded_amnt': 3, 'inq_last_6mths': 32, 'total_rec_int': 3, 'delinq_amnt': 32, 'installment': 3, 'total_rec_late_fee': 3, 'total_rec_prncp': 3}\n",
      "   member_id  loan_amnt  funded_amnt  funded_amnt_inv  installment  \\\n",
      "0  1296599.0     5000.0       5000.0           4975.0       162.87   \n",
      "1  1314167.0     2500.0       2500.0           2500.0        59.83   \n",
      "2  1313524.0     2400.0       2400.0           2400.0        84.33   \n",
      "3  1277178.0    10000.0      10000.0          10000.0       339.31   \n",
      "4  1311748.0     3000.0       3000.0           3000.0        67.79   \n",
      "\n",
      "   annual_inc    dti  delinq_2yrs  inq_last_6mths  open_acc  pub_rec  \\\n",
      "0     24000.0  27.65          0.0             1.0       3.0      0.0   \n",
      "1     30000.0   1.00          0.0             5.0       3.0      0.0   \n",
      "2     12252.0   8.72          0.0             2.0       2.0      0.0   \n",
      "3     49200.0  20.00          0.0             1.0      10.0      0.0   \n",
      "4     80000.0  17.94          0.0             0.0      15.0      0.0   \n",
      "\n",
      "   revol_bal  total_acc  out_prncp  out_prncp_inv   total_pymnt  \\\n",
      "0    13648.0        9.0       0.00           0.00   5863.155187   \n",
      "1     1687.0        4.0       0.00           0.00   1008.710000   \n",
      "2     2956.0       10.0       0.00           0.00   3005.666844   \n",
      "3     5598.0       37.0       0.00           0.00  12231.890000   \n",
      "4    27783.0       38.0     461.73         461.73   3581.120000   \n",
      "\n",
      "   total_pymnt_inv  total_rec_prncp  total_rec_int  total_rec_late_fee  \\\n",
      "0          5833.84          5000.00         863.16                0.00   \n",
      "1          1008.71           456.46         435.17                0.00   \n",
      "2          3005.67          2400.00         605.67                0.00   \n",
      "3         12231.89         10000.00        2214.92               16.97   \n",
      "4          3581.12          2538.27        1042.85                0.00   \n",
      "\n",
      "   recoveries  collection_recovery_fee  last_pymnt_amnt  \\\n",
      "0        0.00                     0.00           171.62   \n",
      "1      117.08                     1.11           119.66   \n",
      "2        0.00                     0.00           649.91   \n",
      "3        0.00                     0.00           357.48   \n",
      "4        0.00                     0.00            67.79   \n",
      "\n",
      "   collections_12_mths_ex_med  policy_code  acc_now_delinq  \\\n",
      "0                         0.0          1.0             0.0   \n",
      "1                         0.0          1.0             0.0   \n",
      "2                         0.0          1.0             0.0   \n",
      "3                         0.0          1.0             0.0   \n",
      "4                         0.0          1.0             0.0   \n",
      "\n",
      "   chargeoff_within_12_mths  delinq_amnt  pub_rec_bankruptcies  tax_liens  \n",
      "0                       0.0          0.0                   0.0        0.0  \n",
      "1                       0.0          0.0                   0.0        0.0  \n",
      "2                       0.0          0.0                   0.0        0.0  \n",
      "3                       0.0          0.0                   0.0        0.0  \n",
      "4                       0.0          0.0                   0.0        0.0  \n"
     ]
    }
   ],
   "source": [
    "chunks = pd.read_csv('loans_2007.csv', chunksize=3000)\n",
    "is_null_float_dict = {}\n",
    "for c in chunks:\n",
    "    is_null_float = c.select_dtypes(include=[\"float\"]).isnull().sum()\n",
    "    for col in is_null_float.index:\n",
    "        if col in is_null_float_dict:\n",
    "            is_null_float_dict[col] += is_null_float[col]\n",
    "        else:\n",
    "            is_null_float_dict[col] = is_null_float[col]\n",
    "print(is_null_float_dict)\n",
    "num_cols_five = pd.read_csv('loans_2007.csv', usecols=is_null_float_dict.keys(), nrows=5)\n",
    "print(num_cols_five)"
   ]
  },
  {
   "cell_type": "markdown",
   "metadata": {},
   "source": [
    "**Calculate the total memory usage across all of the chunks**"
   ]
  },
  {
   "cell_type": "code",
   "execution_count": 5,
   "metadata": {
    "collapsed": false
   },
   "outputs": [
    {
     "name": "stdout",
     "output_type": "stream",
     "text": [
      "16.8772354126\n"
     ]
    }
   ],
   "source": [
    "chunks = pd.read_csv('loans_2007.csv', chunksize=3000)\n",
    "usage = 0\n",
    "for c in chunks:\n",
    "    usage += c.memory_usage().sum()/(1024**2)\n",
    "print(usage)"
   ]
  },
  {
   "cell_type": "markdown",
   "metadata": {},
   "source": [
    "Optimizing String Columns\n",
    "=="
   ]
  },
  {
   "cell_type": "markdown",
   "metadata": {},
   "source": [
    "**Inspect the string columns**"
   ]
  },
  {
   "cell_type": "code",
   "execution_count": 6,
   "metadata": {
    "collapsed": false
   },
   "outputs": [
    {
     "name": "stdout",
     "output_type": "stream",
     "text": [
      "        id        term int_rate grade sub_grade                 emp_title  \\\n",
      "0  1077501   36 months   10.65%     B        B2                       NaN   \n",
      "1  1077430   60 months   15.27%     C        C4                     Ryder   \n",
      "2  1077175   36 months   15.96%     C        C5                       NaN   \n",
      "3  1076863   36 months   13.49%     C        C1       AIR RESOURCES BOARD   \n",
      "4  1075358   60 months   12.69%     B        B5  University Medical Group   \n",
      "\n",
      "  emp_length home_ownership verification_status   issue_d  loan_status  \\\n",
      "0  10+ years           RENT            Verified  Dec-2011   Fully Paid   \n",
      "1   < 1 year           RENT     Source Verified  Dec-2011  Charged Off   \n",
      "2  10+ years           RENT        Not Verified  Dec-2011   Fully Paid   \n",
      "3  10+ years           RENT     Source Verified  Dec-2011   Fully Paid   \n",
      "4     1 year           RENT     Source Verified  Dec-2011      Current   \n",
      "\n",
      "  pymnt_plan         purpose                 title zip_code addr_state  \\\n",
      "0          n     credit_card              Computer    860xx         AZ   \n",
      "1          n             car                  bike    309xx         GA   \n",
      "2          n  small_business  real estate business    606xx         IL   \n",
      "3          n           other              personel    917xx         CA   \n",
      "4          n           other              Personal    972xx         OR   \n",
      "\n",
      "  earliest_cr_line revol_util initial_list_status last_pymnt_d  \\\n",
      "0         Jan-1985      83.7%                   f     Jan-2015   \n",
      "1         Apr-1999       9.4%                   f     Apr-2013   \n",
      "2         Nov-2001      98.5%                   f     Jun-2014   \n",
      "3         Feb-1996        21%                   f     Jan-2015   \n",
      "4         Jan-1996      53.9%                   f     Jun-2016   \n",
      "\n",
      "  last_credit_pull_d application_type  \n",
      "0           Jun-2016       INDIVIDUAL  \n",
      "1           Sep-2013       INDIVIDUAL  \n",
      "2           Jun-2016       INDIVIDUAL  \n",
      "3           Apr-2016       INDIVIDUAL  \n",
      "4           Jun-2016       INDIVIDUAL  \n"
     ]
    }
   ],
   "source": [
    "string_five_rows = pd.read_csv(\"loans_2007.csv\", usecols = combined_count.keys(), nrows=5)\n",
    "print(string_five_rows)"
   ]
  },
  {
   "cell_type": "markdown",
   "metadata": {},
   "source": [
    "*Observation:*\n",
    "\n",
    "*1.  Some columns can be converted to a numeric type after cleaning (e.g., term, int_rate, revol_util).*\n",
    "\n",
    "*2. Some can be converted to the category type (e.g., the string columns which contain few unique values).*"
   ]
  },
  {
   "cell_type": "markdown",
   "metadata": {
    "collapsed": true
   },
   "source": [
    "**Which string columns contain less than 5% unique values?**"
   ]
  },
  {
   "cell_type": "code",
   "execution_count": 7,
   "metadata": {
    "collapsed": false
   },
   "outputs": [
    {
     "name": "stdout",
     "output_type": "stream",
     "text": [
      "['verification_status', 'home_ownership', 'last_pymnt_d', 'term', 'loan_status', 'last_credit_pull_d', 'grade', 'emp_length', 'sub_grade', 'pymnt_plan', 'addr_state', 'purpose', 'application_type', 'int_rate', 'issue_d', 'initial_list_status']\n"
     ]
    }
   ],
   "source": [
    "less_half_unique_list = []\n",
    "for key in combined_count.keys():\n",
    "    per_unique = len(combined_count[key])/rows\n",
    "    if per_unique < 0.05:\n",
    "        less_half_unique_list.append(key)\n",
    "print(less_half_unique_list)"
   ]
  },
  {
   "cell_type": "markdown",
   "metadata": {
    "collapsed": true
   },
   "source": [
    "**Read as chunk while convert to catogorical, convert to datetime**"
   ]
  },
  {
   "cell_type": "code",
   "execution_count": 8,
   "metadata": {
    "collapsed": false
   },
   "outputs": [],
   "source": [
    "to_cat_list = ['grade', 'sub_grade', 'emp_length', 'home_ownership', \n",
    "'verification_status', 'loan_status', 'pymnt_plan', 'purpose', \n",
    "'addr_state','initial_list_status', 'application_type']"
   ]
  },
  {
   "cell_type": "code",
   "execution_count": 9,
   "metadata": {
    "collapsed": true
   },
   "outputs": [],
   "source": [
    "to_date_list = [\"issue_d\", \"earliest_cr_line\", \"last_pymnt_d\", \"last_credit_pull_d\"]"
   ]
  },
  {
   "cell_type": "code",
   "execution_count": 19,
   "metadata": {
    "collapsed": false
   },
   "outputs": [
    {
     "name": "stdout",
     "output_type": "stream",
     "text": [
      "{'verification_status': 'category', 'home_ownership': 'category', 'pymnt_plan': 'category', 'addr_state': 'category', 'loan_status': 'category', 'application_type': 'category', 'emp_length': 'category', 'grade': 'category', 'purpose': 'category', 'initial_list_status': 'category', 'sub_grade': 'category'}\n"
     ]
    }
   ],
   "source": [
    "convert_cat = {}\n",
    "for col in to_cat_list:\n",
    "    convert_cat[col] = \"category\"\n",
    "print(convert_cat)\n",
    "\n",
    "#improve_chunks = pd.read_csv('loans_2007.csv', dtype=convert_cat, parse_dates=to_date_list, chunksize=3000)\n",
    "improve_chunks = pd.read_csv('loans_2007.csv', dtype=convert_cat, parse_dates=[\"issue_d\", \"earliest_cr_line\", \"last_pymnt_d\", \"last_credit_pull_d\"], chunksize=3000)"
   ]
  },
  {
   "cell_type": "markdown",
   "metadata": {},
   "source": [
    "**Convert some string columns to numerical, and downcast numerical columns**"
   ]
  },
  {
   "cell_type": "code",
   "execution_count": 20,
   "metadata": {
    "collapsed": false
   },
   "outputs": [
    {
     "name": "stdout",
     "output_type": "stream",
     "text": [
      "13.1828212738\n",
      "0\n"
     ]
    }
   ],
   "source": [
    "per_to_float = ['int_rate', 'revol_util']\n",
    "improve_usage = 0\n",
    "for c in improve_chunks:\n",
    "    for col in per_to_float:\n",
    "        c[col] = pd.to_numeric(c[col].str.rstrip(\"%\"), downcast=\"float\")\n",
    "    c['term'] = pd.to_numeric(c['term'].str.lstrip(\" \").str.rstrip(\" months\"), downcast=\"integer\")\n",
    "    improve_usage += c.memory_usage().sum()/(1024**2)\n",
    "print(improve_usage)\n",
    "\n",
    "test_usage = 0\n",
    "for c in improve_chunks:\n",
    "    test_usage += c.memory_usage().sum()/(1024**2)\n",
    "\n",
    "print(test_usage)"
   ]
  },
  {
   "cell_type": "markdown",
   "metadata": {},
   "source": [
    "*Observation:*\n",
    "\n",
    "*The overall memory usage used to be 16.87 MB, now it's 13.18 MB*\n",
    "\n",
    "*We will be able to save more space by downcast others numerical columns*"
   ]
  },
  {
   "cell_type": "markdown",
   "metadata": {
    "collapsed": true
   },
   "source": [
    "**Next Step: convert others numerical columns to a more space efficient subtype**"
   ]
  }
 ],
 "metadata": {
  "anaconda-cloud": {},
  "kernelspec": {
   "display_name": "Python 3",
   "language": "python",
   "name": "python3"
  },
  "language_info": {
   "codemirror_mode": {
    "name": "ipython",
    "version": 3
   },
   "file_extension": ".py",
   "mimetype": "text/x-python",
   "name": "python",
   "nbconvert_exporter": "python",
   "pygments_lexer": "ipython3",
   "version": "3.4.3"
  }
 },
 "nbformat": 4,
 "nbformat_minor": 2
}
