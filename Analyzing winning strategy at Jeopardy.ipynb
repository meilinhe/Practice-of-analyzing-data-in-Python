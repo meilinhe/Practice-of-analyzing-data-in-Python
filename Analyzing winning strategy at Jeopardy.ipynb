{
 "cells": [
  {
   "cell_type": "code",
   "execution_count": 1,
   "metadata": {
    "collapsed": false
   },
   "outputs": [
    {
     "name": "stdout",
     "output_type": "stream",
     "text": [
      "============\n",
      "display head\n",
      "============\n",
      "   Show Number    Air Date      Round                         Category  Value  \\\n",
      "0         4680  2004-12-31  Jeopardy!                          HISTORY   $200   \n",
      "1         4680  2004-12-31  Jeopardy!  ESPN's TOP 10 ALL-TIME ATHLETES   $200   \n",
      "2         4680  2004-12-31  Jeopardy!      EVERYBODY TALKS ABOUT IT...   $200   \n",
      "3         4680  2004-12-31  Jeopardy!                 THE COMPANY LINE   $200   \n",
      "4         4680  2004-12-31  Jeopardy!              EPITAPHS & TRIBUTES   $200   \n",
      "\n",
      "                                            Question      Answer  \n",
      "0  For the last 8 years of his life, Galileo was ...  Copernicus  \n",
      "1  No. 2: 1912 Olympian; football star at Carlisl...  Jim Thorpe  \n",
      "2  The city of Yuma in this state has a record av...     Arizona  \n",
      "3  In 1963, live on \"The Art Linkletter Show\", th...  McDonald's  \n",
      "4  Signer of the Dec. of Indep., framer of the Co...  John Adams  \n"
     ]
    }
   ],
   "source": [
    "import pandas as pd\n",
    "jeopardy = pd.read_csv(\"jeopardy.csv\")\n",
    "def print_title(title, to_print):\n",
    "    print(\"=\"*len(title))\n",
    "    print(title)\n",
    "    print(\"=\"*len(title))\n",
    "    print(to_print)\n",
    "    \n",
    "print_title(\"display head\", jeopardy.head())"
   ]
  },
  {
   "cell_type": "markdown",
   "metadata": {},
   "source": [
    "Fix Column Names\n",
    "===="
   ]
  },
  {
   "cell_type": "code",
   "execution_count": 2,
   "metadata": {
    "collapsed": false
   },
   "outputs": [
    {
     "name": "stdout",
     "output_type": "stream",
     "text": [
      "===============\n",
      "display columns\n",
      "===============\n",
      "Index(['Show Number', ' Air Date', ' Round', ' Category', ' Value',\n",
      "       ' Question', ' Answer'],\n",
      "      dtype='object')\n",
      "=====================\n",
      "display fixed columns\n",
      "=====================\n",
      "Index(['Show Number', 'Air Date', 'Round', 'Category', 'Value', 'Question',\n",
      "       'Answer'],\n",
      "      dtype='object')\n"
     ]
    }
   ],
   "source": [
    "print_title(\"display columns\", jeopardy.columns)\n",
    "cols = []\n",
    "for col in list(jeopardy.columns):\n",
    "    col = col.strip()\n",
    "    cols.append(col)\n",
    "jeopardy.columns = cols\n",
    "print_title(\"display fixed columns\", jeopardy.columns)"
   ]
  },
  {
   "cell_type": "markdown",
   "metadata": {},
   "source": [
    "Normalize Columns\n",
    "=="
   ]
  },
  {
   "cell_type": "code",
   "execution_count": 3,
   "metadata": {
    "collapsed": false
   },
   "outputs": [],
   "source": [
    "#question & answer cols\n",
    "from string import punctuation\n",
    "def norm_string_col(strg):\n",
    "    strg = strg.lower()\n",
    "    strg = ''.join(s for s in strg if s not in punctuation)\n",
    "    return strg\n",
    "jeopardy[\"clean_question\"] = jeopardy[\"Question\"].apply(norm_string_col)\n",
    "jeopardy[\"clean_answer\"] = jeopardy[\"Answer\"].apply(norm_string_col)\n",
    "\n",
    "#value col\n",
    "def norm_value(strg):\n",
    "    try:\n",
    "        strg = norm_string_col(strg)\n",
    "        strg = int(strg)\n",
    "        return strg\n",
    "    except ValueError:\n",
    "        return 0\n",
    "    \n",
    "jeopardy[\"clean_value\"] = jeopardy[\"Value\"].apply(norm_value)\n",
    "\n",
    "#air date col\n",
    "jeopardy[\"Air Date\"] = pd.to_datetime(jeopardy[\"Air Date\"])\n",
    "\n",
    "#print_title(\"display head\", jeopardy.head())"
   ]
  },
  {
   "cell_type": "markdown",
   "metadata": {},
   "source": [
    "1. How often the answer is deducible from the question?\n",
    "=="
   ]
  },
  {
   "cell_type": "code",
   "execution_count": 4,
   "metadata": {
    "collapsed": false
   },
   "outputs": [
    {
     "name": "stdout",
     "output_type": "stream",
     "text": [
      "====================================\n",
      "avg percentage of answer in question\n",
      "====================================\n",
      "0.0603527738547\n"
     ]
    }
   ],
   "source": [
    "def percent_match(row):\n",
    "    match_count = 0\n",
    "    split_answer = row[\"clean_answer\"].split(\" \")\n",
    "    if \"the\" in split_answer:\n",
    "        split_answer.remove('the')\n",
    "    split_question = row[\"clean_question\"].split(\" \")\n",
    "    if len(split_answer) == 0:\n",
    "        return 0\n",
    "    else:\n",
    "        for item in split_answer:\n",
    "            if item in split_question:\n",
    "                match_count += 1\n",
    "        return match_count/len(split_answer)\n",
    "\n",
    "jeopardy[\"answer_in_question\"] = jeopardy.apply(percent_match, axis=1)\n",
    "avg_answer_in_question = jeopardy[\"answer_in_question\"].mean()\n",
    "print_title(\"avg percentage of answer in question\", avg_answer_in_question)"
   ]
  },
  {
   "cell_type": "markdown",
   "metadata": {},
   "source": [
    "**Findings: The answer is rarely deducible from the question.**"
   ]
  },
  {
   "cell_type": "markdown",
   "metadata": {},
   "source": [
    "2. How often new questions are repeats of older questions?\n",
    "==\n",
    "Investigating how often complex words (> 6 characters) reoccur."
   ]
  },
  {
   "cell_type": "code",
   "execution_count": 5,
   "metadata": {
    "collapsed": false
   },
   "outputs": [
    {
     "name": "stdout",
     "output_type": "stream",
     "text": [
      "=====================================\n",
      "avg percentage of overlaped questions\n",
      "=====================================\n",
      "0.688905531662\n"
     ]
    }
   ],
   "source": [
    "#sort by air date\n",
    "jeopardy = jeopardy.sort_values([\"Air Date\"], ascending=1)\n",
    "#loop over clean_question\n",
    "question_overlap = []\n",
    "terms_used = []\n",
    "col_split_question = []\n",
    "for i, row in jeopardy.iterrows():\n",
    "    match_count = 0\n",
    "    split_question = row[\"clean_question\"].split(\" \")\n",
    "    split_question = [word for word in split_question if len(word)>5]\n",
    "    col_split_question.append(split_question)\n",
    "    for word in split_question:\n",
    "        if word in terms_used:\n",
    "            match_count += 1\n",
    "        else:\n",
    "            terms_used.append(word)\n",
    "    if len(split_question) > 0:\n",
    "        question_overlap.append(match_count/len(split_question))\n",
    "    else:\n",
    "        question_overlap.append(0)\n",
    "jeopardy[\"question_overlap\"] = question_overlap\n",
    "jeopardy[\"split_question\"] = col_split_question\n",
    "#print(question_overlap)\n",
    "avg_question_overlap = jeopardy[\"question_overlap\"].mean()\n",
    "print_title(\"avg percentage of overlaped questions\", avg_question_overlap)\n",
    "#print(jeopardy.head())"
   ]
  },
  {
   "cell_type": "markdown",
   "metadata": {},
   "source": [
    "3. Low Values vs High Value Questions\n",
    "=="
   ]
  },
  {
   "cell_type": "code",
   "execution_count": 17,
   "metadata": {
    "collapsed": false
   },
   "outputs": [
    {
     "name": "stdout",
     "output_type": "stream",
     "text": [
      "===========\n",
      "chi_squared\n",
      "===========\n",
      "[Power_divergenceResult(statistic=5.9523452957768193, pvalue=0.014697719050307324), Power_divergenceResult(statistic=67851.571860497963, pvalue=0.0), Power_divergenceResult(statistic=48.376061510213447, pvalue=3.5183706698949539e-12), Power_divergenceResult(statistic=32.809381183107277, pvalue=1.0165308487719387e-08), Power_divergenceResult(statistic=168.67061474723423, pvalue=1.4438564237211225e-38)]\n"
     ]
    }
   ],
   "source": [
    "high_value_count, low_value_count = 0, 0\n",
    "\n",
    "for i, row in jeopardy.iterrows():\n",
    "    if row[\"clean_value\"] < 800:\n",
    "        high_value_count += 1\n",
    "    else:\n",
    "        low_value_count += 1\n",
    "\n",
    "def occurance(word):\n",
    "    word_count = 0\n",
    "    word_count_low = 0\n",
    "    word_count_high = 0\n",
    "    for i, row in jeopardy.iterrows():\n",
    "    # split questions into two catogories by value\n",
    "        if word in row[\"split_question\"]:\n",
    "            if row[\"clean_value\"] < 800:\n",
    "                #Find the number of low value questions the word occurs in\n",
    "                word_count_low += 1\n",
    "            else:\n",
    "                #Find the number of high value questions the word occurs in\n",
    "                word_count_high += 1\n",
    "            word_count += 1\n",
    "    #Find the percentage of questions the word occurs in\n",
    "    per = 1/jeopardy.shape[0]\n",
    "    #Based on the percentage of questions the word occurs in, find expected counts\n",
    "    word_count_low_exp = per*low_value_count\n",
    "    word_count_high_exp = per*high_value_count\n",
    "    return word_count_low, word_count_high, word_count_low_exp, word_count_high_exp \n",
    "\n",
    "observed_expected = []\n",
    "comparison_terms = list(terms_used)[:5]\n",
    "for term in comparison_terms:\n",
    "    count = occurance(term)\n",
    "    observed_expected.append(count)   \n",
    "#Compute the chi squared value based on the expected counts and the observed counts for high and low value questions\n",
    "from scipy.stats import chisquare\n",
    "chi_squared = []\n",
    "for data in observed_expected:\n",
    "    chi_squared.append(chisquare(data[:2], f_exp=data[2:4]))\n",
    "print_title(\"chi_squared\", chi_squared)"
   ]
  }
 ],
 "metadata": {
  "kernelspec": {
   "display_name": "Python 3",
   "language": "python",
   "name": "python3"
  },
  "language_info": {
   "codemirror_mode": {
    "name": "ipython",
    "version": 3
   },
   "file_extension": ".py",
   "mimetype": "text/x-python",
   "name": "python",
   "nbconvert_exporter": "python",
   "pygments_lexer": "ipython3",
   "version": "3.4.3"
  }
 },
 "nbformat": 4,
 "nbformat_minor": 0
}
