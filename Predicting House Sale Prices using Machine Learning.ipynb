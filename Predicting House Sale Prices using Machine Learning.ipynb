{
 "cells": [
  {
   "cell_type": "markdown",
   "metadata": {},
   "source": [
    "Read in Data\n",
    "=="
   ]
  },
  {
   "cell_type": "code",
   "execution_count": 15,
   "metadata": {
    "collapsed": false
   },
   "outputs": [
    {
     "name": "stdout",
     "output_type": "stream",
     "text": [
      "==========\n",
      "total_rows\n",
      "==========\n",
      "2930\n"
     ]
    }
   ],
   "source": [
    "import pandas as pd\n",
    "import matplotlib.pyplot as plt\n",
    "import numpy as np\n",
    "import math\n",
    "%matplotlib inline\n",
    "\n",
    "data = pd.read_table(\"AmesHousing.txt\", delimiter=\"\\t\")\n",
    "\n",
    "def print_title(title, to_print):\n",
    "    print(\"=\"*len(title))\n",
    "    print(title)\n",
    "    print(\"=\"*len(title))\n",
    "    print(to_print)\n",
    "total_rows = data.shape[0]    \n",
    "print_title(\"total_rows\",total_rows)"
   ]
  },
  {
   "cell_type": "markdown",
   "metadata": {},
   "source": [
    "Transform & Select Features\n",
    "=="
   ]
  },
  {
   "cell_type": "code",
   "execution_count": 22,
   "metadata": {
    "collapsed": false
   },
   "outputs": [
    {
     "name": "stdout",
     "output_type": "stream",
     "text": [
      "============\n",
      "Average RMSE\n",
      "============\n",
      "61339.3261367\n",
      "===========================\n",
      "List of RMSEs for each fold\n",
      "===========================\n",
      "[60952.006878653985, 61726.645394804989]\n"
     ]
    }
   ],
   "source": [
    "from sklearn.neighbors import KNeighborsRegressor\n",
    "from sklearn.metrics import mean_squared_error\n",
    "\n",
    "def transform_features(data):\n",
    "    new_data = data\n",
    "    return new_data\n",
    "\n",
    "def select_features(data):\n",
    "    new_data = transform_features(data)\n",
    "    select_features = [\"Gr Liv Area\",\"SalePrice\"]\n",
    "    return select_features\n"
   ]
  },
  {
   "cell_type": "code",
   "execution_count": 23,
   "metadata": {
    "collapsed": false
   },
   "outputs": [
    {
     "name": "stdout",
     "output_type": "stream",
     "text": [
      "{'BsmtFin Type 2': 6, '1st Flr SF': 1083, 'Foundation': 6, 'Land Contour': 4, 'MS Zoning': 7, 'Pool Area': 14, 'Bsmt Unf SF': 1137, 'Bsmt Half Bath': 3, 'MS SubClass': 16, 'BsmtFin SF 2': 274, 'Lot Frontage': 128, 'Land Slope': 3, 'Overall Cond': 9, 'Bedroom AbvGr': 8, 'Bldg Type': 5, 'Sale Condition': 6, 'Year Remod/Add': 61, 'Exterior 1st': 16, 'Bsmt Exposure': 4, 'BsmtFin SF 1': 995, 'Bsmt Qual': 5, 'Garage Type': 6, 'Garage Cond': 5, '2nd Flr SF': 635, 'Order': 2930, 'Sale Type': 10, 'Misc Val': 38, 'Year Built': 118, 'Garage Yr Blt': 103, 'Wood Deck SF': 380, 'Lot Shape': 4, 'Lot Area': 1960, 'Overall Qual': 10, 'Roof Matl': 8, 'Exter Cond': 5, 'Yr Sold': 5, 'Garage Area': 603, 'Lot Config': 5, 'Enclosed Porch': 183, 'Mas Vnr Area': 445, 'Heating': 6, 'Utilities': 3, 'Garage Qual': 5, 'Roof Style': 6, 'Functional': 8, 'Condition 1': 9, 'Paved Drive': 3, 'Fireplaces': 5, 'PID': 2930, 'Half Bath': 3, 'Total Bsmt SF': 1058, 'Gr Liv Area': 1292, 'Central Air': 2, 'Open Porch SF': 252, 'Street': 2, 'Low Qual Fin SF': 36, 'House Style': 8, 'Electrical': 5, 'Kitchen AbvGr': 4, 'Screen Porch': 121, 'Heating QC': 5, 'Garage Finish': 3, 'Mo Sold': 12, 'Bsmt Cond': 5, 'Neighborhood': 28, '3Ssn Porch': 31, 'Mas Vnr Type': 5, 'Full Bath': 5, 'Exterior 2nd': 17, 'Exter Qual': 4, 'Bsmt Full Bath': 4, 'Garage Cars': 6, 'BsmtFin Type 1': 6, 'Kitchen Qual': 5, 'Condition 2': 8, 'TotRms AbvGrd': 14, 'SalePrice': 1032}\n"
     ]
    }
   ],
   "source": [
    "#update transform_features() func\n",
    "\n",
    "#print(data[\"PID\"])\n",
    "\n",
    "#filter out columns with more than 25% missing values\n",
    "null_count = data.isnull().sum()\n",
    "data = data[null_count[null_count<0.25*total_rows].index]\n",
    "\n",
    "#choose cols to transfer to categorical\n",
    "col_value_counts = {}\n",
    "for col in data.columns:\n",
    "    count_list = data[col].value_counts()\n",
    "    col_value_counts[col] = len(count_list)\n",
    "print(col_value_counts)\n",
    "#### transfer cols with how many categories?\n",
    "#### drop cols have few unique values but more than 95% belong to a single category\n",
    "#### create new cols that better better capture the information (e.g. years_until_remod)\n",
    "new_data = data"
   ]
  },
  {
   "cell_type": "code",
   "execution_count": null,
   "metadata": {
    "collapsed": true
   },
   "outputs": [],
   "source": [
    "#update select_features() func\n",
    "import seaborn as sns\n",
    "sns.heatmap(new_data.corr())\n",
    "#### features corr strongly with SalePrice?\n",
    "#### try diff features & compare"
   ]
  },
  {
   "cell_type": "markdown",
   "metadata": {},
   "source": [
    "Train & Test\n",
    "=="
   ]
  },
  {
   "cell_type": "code",
   "execution_count": null,
   "metadata": {
    "collapsed": false
   },
   "outputs": [],
   "source": [
    "def k_fold_train_test(k, data):\n",
    "    features = select_features(data)\n",
    "    features.remove(\"SalePrice\")\n",
    "    knn = KNeighborsRegressor()\n",
    "    rmse_list = []\n",
    "    rows_per = math.ceil(data.shape[0]/k)\n",
    "    for i in range(0,k):\n",
    "        train_set = data[(rows_per*i):(rows_per*(i+1))]\n",
    "        test_set = data.drop(data.index[(rows_per*i):(rows_per*(i+1))])\n",
    "        knn.fit(train_set[features], train_set[\"SalePrice\"])\n",
    "        pred = knn.predict(test_set[features])\n",
    "        rmse_list.append(mean_squared_error(test_set[\"SalePrice\"], pred)**0.5)\n",
    "    avg_rmse = np.mean(rmse_list)\n",
    "    return avg_rmse, rmse_list\n",
    "\n",
    "def simple_train_test(data):\n",
    "    features = select_features(data)\n",
    "    features.remove(\"SalePrice\")\n",
    "    knn = KNeighborsRegressor()\n",
    "    rmse_list = []\n",
    "    train_set = data[:1460]\n",
    "    test_set = data[1460:]\n",
    "    knn.fit(train_set[features], train_set[\"SalePrice\"])\n",
    "    pred = knn.predict(test_set[features])\n",
    "    rmse_list.append(mean_squared_error(test_set[\"SalePrice\"], pred)**0.5)\n",
    "    knn.fit(test_set[features], test_set[\"SalePrice\"])\n",
    "    pred = knn.predict(train_set[features])\n",
    "    rmse_list.append(mean_squared_error(train_set[\"SalePrice\"], pred)**0.5)\n",
    "    avg_rmse = np.mean(rmse_list)\n",
    "    return avg_rmse, rmse_list\n",
    "\n",
    "def train_and_test(data, method, k=5):\n",
    "    if method == \"k_fold\":\n",
    "        avg_rmse, rmse_list = k_fold_train_test(k, data)\n",
    "    if method == \"simple\":\n",
    "        avg_rmse, rmse_list = simple_train_test(data)\n",
    "    return avg_rmse, rmse_list\n",
    "\n",
    "avg_rmse, rmse_list = train_and_test(data, \"simple\")\n",
    "print_title(\"Average RMSE\", avg_rmse)\n",
    "print_title(\"List of RMSEs for each fold\", rmse_list)"
   ]
  }
 ],
 "metadata": {
  "anaconda-cloud": {},
  "kernelspec": {
   "display_name": "Python 3",
   "language": "python",
   "name": "python3"
  },
  "language_info": {
   "codemirror_mode": {
    "name": "ipython",
    "version": 3
   },
   "file_extension": ".py",
   "mimetype": "text/x-python",
   "name": "python",
   "nbconvert_exporter": "python",
   "pygments_lexer": "ipython3",
   "version": "3.4.3"
  }
 },
 "nbformat": 4,
 "nbformat_minor": 2
}
