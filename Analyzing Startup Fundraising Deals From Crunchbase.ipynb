{
 "cells": [
  {
   "cell_type": "markdown",
   "metadata": {},
   "source": [
    "Explore the dataset\n",
    "=="
   ]
  },
  {
   "cell_type": "markdown",
   "metadata": {},
   "source": [
    "**In this project:**\n",
    "\n",
    "   **1. Processing medium-sized datasets using chunks**\n",
    "    \n",
    "   **2. Exploring and analyzing data using SQLite**\n",
    "  "
   ]
  },
  {
   "cell_type": "code",
   "execution_count": 1,
   "metadata": {
    "collapsed": false
   },
   "outputs": [
    {
     "name": "stdout",
     "output_type": "stream",
     "text": [
      "--------------------\n",
      "Missing value counts\n",
      "--------------------\n",
      "{'company_region': 1, 'company_city': 533, 'investor_region': 2, 'investor_state_code': 16809, 'funding_round_type': 3, 'funded_month': 3, 'investor_name': 2, 'investor_country_code': 12001, 'company_category_code': 643, 'funded_quarter': 3, 'funded_year': 3, 'raised_amount_usd': 3599, 'company_state_code': 492, 'company_name': 1, 'company_country_code': 1, 'company_permalink': 1, 'funded_at': 3, 'investor_city': 12480, 'investor_category_code': 50427, 'investor_permalink': 2}\n",
      "-----------------\n",
      "Default data type\n",
      "-----------------\n",
      "company_permalink          object\n",
      "company_name               object\n",
      "company_category_code      object\n",
      "company_country_code       object\n",
      "company_state_code         object\n",
      "company_region             object\n",
      "company_city               object\n",
      "investor_permalink         object\n",
      "investor_name              object\n",
      "investor_category_code     object\n",
      "investor_country_code      object\n",
      "investor_state_code        object\n",
      "investor_region            object\n",
      "investor_city              object\n",
      "funding_round_type         object\n",
      "funded_at                  object\n",
      "funded_month               object\n",
      "funded_quarter             object\n",
      "funded_year                 int64\n",
      "raised_amount_usd         float64\n",
      "dtype: object\n",
      "----------------\n",
      "Memory footprint\n",
      "----------------\n",
      "{'company_region': 3411585, 'company_city': 3505926, 'investor_region': 3396281, 'investor_state_code': 2476607, 'funding_round_type': 3410707, 'funded_month': 3383584, 'investor_name': 3915666, 'investor_country_code': 2647292, 'company_category_code': 3421104, 'funded_quarter': 3383584, 'funded_year': 422960, 'raised_amount_usd': 422960, 'company_state_code': 3106051, 'company_name': 3591326, 'company_country_code': 3172176, 'company_permalink': 4057788, 'funded_at': 3542185, 'investor_city': 2885083, 'investor_category_code': 622424, 'investor_permalink': 4980548}\n",
      "----------------------\n",
      "Total memory footprint\n",
      "----------------------\n",
      "56.9884843826\n"
     ]
    }
   ],
   "source": [
    "import pandas as pd\n",
    "data_iter = pd.read_csv(\"crunchbase-investments.csv\", chunksize=5000, \n",
    "                        encoding='latin1')\n",
    "null_count_dict = {}\n",
    "memory_use_dict = {}\n",
    "iteration = 0\n",
    "total_memory_use = 0\n",
    "\n",
    "for chunk in data_iter:\n",
    "    #Each column's missing value counts\n",
    "    #Each column's memory footprint\n",
    "    null_count = chunk.isnull().sum()\n",
    "    memory_use = chunk.memory_usage(deep=True)\n",
    "    total_use = memory_use.sum()\n",
    "    total_memory_use += total_use\n",
    "    for col in chunk.columns:\n",
    "        if col not in null_count_dict:\n",
    "            null_count_dict[col] = null_count[col]\n",
    "            memory_use_dict[col] = memory_use[col]\n",
    "        else:\n",
    "            null_count_dict[col] += null_count[col]\n",
    "            memory_use_dict[col] += memory_use[col]\n",
    "    #Each column's default data type\n",
    "    if iteration == 0:\n",
    "        dtype_dict = chunk.dtypes\n",
    "        iteration += 1\n",
    "    \n",
    "\n",
    "#format the result a little bit\n",
    "def print_result(title,content):\n",
    "    print(\"-\"*len(title))\n",
    "    print(title)\n",
    "    print(\"-\"*len(title))\n",
    "    print(content)\n",
    "    \n",
    "print_result(\"Missing value counts\",null_count_dict)\n",
    "print_result(\"Default data type\",dtype_dict)\n",
    "print_result(\"Memory footprint\",memory_use_dict)\n",
    "print_result(\"Total memory footprint\",total_memory_use/(1024**2))"
   ]
  },
  {
   "cell_type": "markdown",
   "metadata": {},
   "source": [
    "**Observe the dataset**"
   ]
  },
  {
   "cell_type": "code",
   "execution_count": 2,
   "metadata": {
    "collapsed": false,
    "scrolled": true
   },
   "outputs": [
    {
     "name": "stdout",
     "output_type": "stream",
     "text": [
      "     company_permalink company_name company_category_code  \\\n",
      "0    /company/advercar     AdverCar           advertising   \n",
      "1  /company/launchgram   LaunchGram                  news   \n",
      "2        /company/utap         uTaP             messaging   \n",
      "3    /company/zoopshop     ZoopShop              software   \n",
      "4    /company/efuneral     eFuneral                   web   \n",
      "\n",
      "  company_country_code company_state_code         company_region  \\\n",
      "0                  USA                 CA                 SF Bay   \n",
      "1                  USA                 CA                 SF Bay   \n",
      "2                  USA                NaN  United States - Other   \n",
      "3                  USA                 OH               Columbus   \n",
      "4                  USA                 OH              Cleveland   \n",
      "\n",
      "    company_city          investor_permalink      investor_name  \\\n",
      "0  San Francisco  /company/1-800-flowers-com  1-800-FLOWERS.COM   \n",
      "1  Mountain View        /company/10xelerator        10Xelerator   \n",
      "2            NaN        /company/10xelerator        10Xelerator   \n",
      "3       columbus        /company/10xelerator        10Xelerator   \n",
      "4      Cleveland        /company/10xelerator        10Xelerator   \n",
      "\n",
      "  investor_category_code investor_country_code investor_state_code  \\\n",
      "0                    NaN                   USA                  NY   \n",
      "1                finance                   USA                  OH   \n",
      "2                finance                   USA                  OH   \n",
      "3                finance                   USA                  OH   \n",
      "4                finance                   USA                  OH   \n",
      "\n",
      "  investor_region investor_city funding_round_type   funded_at funded_month  \\\n",
      "0        New York      New York           series-a  2012-10-30      2012-10   \n",
      "1        Columbus      Columbus              other  2012-01-23      2012-01   \n",
      "2        Columbus      Columbus              other  2012-01-01      2012-01   \n",
      "3        Columbus      Columbus              angel  2012-02-15      2012-02   \n",
      "4        Columbus      Columbus              other  2011-09-08      2011-09   \n",
      "\n",
      "  funded_quarter  funded_year  raised_amount_usd  \n",
      "0        2012-Q4         2012            2000000  \n",
      "1        2012-Q1         2012              20000  \n",
      "2        2012-Q1         2012              20000  \n",
      "3        2012-Q1         2012              20000  \n",
      "4        2011-Q3         2011              20000  \n"
     ]
    }
   ],
   "source": [
    "data_five = pd.read_csv(\"crunchbase-investments.csv\", encoding='latin1', nrows=5)\n",
    "print(data_five)"
   ]
  },
  {
   "cell_type": "markdown",
   "metadata": {},
   "source": [
    "*Observations:*\n",
    "\n",
    "*1. Some columns aren't useful for analysis (investor_permalink).*\n",
    "\n",
    "*2. funded_at column can be splited into three columns (funded_year, funded_month, funded_day), and then funded_at and funded_month column can be deleted.*\n",
    "\n",
    "*3. Keep the quarter only in funded_quarter column.*"
   ]
  },
  {
   "cell_type": "markdown",
   "metadata": {},
   "source": [
    "Optimizing data types\n",
    "=="
   ]
  },
  {
   "cell_type": "code",
   "execution_count": 3,
   "metadata": {
    "collapsed": false
   },
   "outputs": [
    {
     "name": "stdout",
     "output_type": "stream",
     "text": [
      "-----------------\n",
      "Text column names\n",
      "-----------------\n",
      "['company_permalink', 'company_name', 'company_category_code', 'company_country_code', 'company_state_code', 'company_region', 'company_city', 'investor_permalink', 'investor_name', 'investor_category_code', 'investor_country_code', 'investor_state_code', 'investor_region', 'investor_city', 'funding_round_type', 'funded_at', 'funded_month', 'funded_quarter']\n",
      "----------\n",
      "Total rows\n",
      "----------\n",
      "52870\n",
      "----------------------------------\n",
      "Unique values for each text column\n",
      "----------------------------------\n",
      "{'company_region': 546, 'company_city': 1229, 'investor_region': 585, 'investor_state_code': 50, 'funding_round_type': 9, 'funded_month': 192, 'investor_name': 10465, 'investor_country_code': 72, 'funded_quarter': 72, 'company_category_code': 43, 'company_state_code': 50, 'company_name': 11573, 'company_country_code': 2, 'company_permalink': 11573, 'funded_at': 2808, 'investor_city': 990, 'investor_category_code': 33, 'investor_permalink': 10552}\n",
      "----------------------------------------------\n",
      "Columns suitable for converting to catogorical\n",
      "----------------------------------------------\n",
      "['company_region', 'investor_region', 'investor_state_code', 'funding_round_type', 'funded_month', 'investor_country_code', 'funded_quarter', 'company_state_code', 'company_country_code', 'company_category_code', 'investor_category_code']\n"
     ]
    }
   ],
   "source": [
    "data_iter = pd.read_csv(\"crunchbase-investments.csv\", chunksize=5000, \n",
    "                        encoding='latin1')\n",
    "#Identify text columns\n",
    "text_col_list = dtype_dict[dtype_dict==\"object\"].keys().tolist()\n",
    "print_result(\"Text column names\", text_col_list)\n",
    "\n",
    "#Identify text columns which can be optimized\n",
    "text_count_dict = {}\n",
    "combined_text_count = {}\n",
    "overall_text_count = {}\n",
    "rows = 0\n",
    "for chunk in data_iter:\n",
    "    #calculate total rows\n",
    "    rows += chunk.shape[0]\n",
    "    # Identify text columns\n",
    "    for key in text_col_list:\n",
    "        if key in text_count_dict:\n",
    "            text_count_dict[key].append(chunk[key].value_counts())\n",
    "        else:\n",
    "            text_count_dict[key] = [chunk[key].value_counts()]\n",
    "for key in text_count_dict.keys():\n",
    "    combined_text_count[key] = pd.concat(text_count_dict[key])\n",
    "    overall_text_count[key] = combined_text_count[key].groupby(combined_text_count[key].index).sum()\n",
    "####### print_result(\"Value count for each textcolumn\", overall_text_count)\n",
    "print_result(\"Total rows\", rows)\n",
    "\n",
    "# List names of the columns which have less than 10% unique values\n",
    "to_cat_list = []\n",
    "unique_values = {}\n",
    "for key in overall_text_count:\n",
    "    unique_values[key] = len(overall_text_count[key])\n",
    "    if unique_values[key]/rows < 0.015:\n",
    "        to_cat_list.append(key)\n",
    "print_result(\"Unique values for each text column\", unique_values)\n",
    "print_result(\"Columns suitable for converting to catogorical\", to_cat_list)"
   ]
  },
  {
   "cell_type": "code",
   "execution_count": 4,
   "metadata": {
    "collapsed": true
   },
   "outputs": [],
   "source": [
    "to_catogorical = ['company_category_code', 'funding_round_type', \n",
    "                  'investor_category_code', 'company_country_code', \n",
    "                  'company_region', 'investor_region', 'investor_country_code', \n",
    "                  'company_state_code', 'investor_state_code', 'funded_quarter']"
   ]
  },
  {
   "cell_type": "code",
   "execution_count": 5,
   "metadata": {
    "collapsed": false
   },
   "outputs": [
    {
     "name": "stdout",
     "output_type": "stream",
     "text": [
      "--------------------------\n",
      "New total memory footprint\n",
      "--------------------------\n",
      "3.64965438843\n"
     ]
    }
   ],
   "source": [
    "data_iter = pd.read_csv(\"crunchbase-investments.csv\", chunksize=5000, \n",
    "                        encoding='latin1')\n",
    "iteration = 0\n",
    "new_total_memory_use = 0\n",
    "\n",
    "for chunk in data_iter:\n",
    "    # Optimize the numerical columns\n",
    "    ###### filter out null values\n",
    "    chunk = chunk[chunk[\"funded_at\"].notnull()]\n",
    "    chunk[\"funded_day\"] = [c.split(\"-\")[2] for c in chunk[\"funded_at\"]]\n",
    "    chunk[\"funded_month\"] = [c.split(\"-\")[1] for c in chunk[\"funded_at\"]]        \n",
    "    int_col_list = [\"raised_amount_usd\", \"funded_day\", \"funded_month\", \"funded_year\"]\n",
    "    for col in int_col_list :\n",
    "        chunk[col] = pd.to_numeric(chunk[col], downcast='integer')\n",
    "    # Optimize text columns\n",
    "    chunk[\"funded_quarter\"] = [c.split(\"-\")[1] for c in chunk[\"funded_quarter\"].astype(\"object\")]\n",
    "    for col in to_catogorical:\n",
    "        chunk[col] = chunk[col].astype(\"category\")\n",
    "    #drop the columns that are not useful in analysis\n",
    "    chunk.drop(['investor_permalink', 'funded_at'], axis=1, inplace=True)\n",
    "    new_total_memory_use += chunk.memory_usage().sum()\n",
    "    iteration+=1\n",
    "    \n",
    "print_result(\"New total memory footprint\",new_total_memory_use/(1024**2))"
   ]
  },
  {
   "cell_type": "markdown",
   "metadata": {},
   "source": [
    "**Memory usage is dramatically dropped from 56.98 MB to 3.64 MB!**"
   ]
  },
  {
   "cell_type": "markdown",
   "metadata": {},
   "source": [
    "Loading Chunks Into SQLite\n",
    "=="
   ]
  },
  {
   "cell_type": "code",
   "execution_count": 6,
   "metadata": {
    "collapsed": false
   },
   "outputs": [
    {
     "name": "stdout",
     "output_type": "stream",
     "text": [
      "--------------\n",
      "New data types\n",
      "--------------\n",
      "company_name                object\n",
      "company_category_code     category\n",
      "company_country_code      category\n",
      "company_state_code        category\n",
      "company_region            category\n",
      "company_city                object\n",
      "investor_name               object\n",
      "investor_category_code    category\n",
      "investor_country_code     category\n",
      "investor_state_code       category\n",
      "investor_region           category\n",
      "investor_city               object\n",
      "funding_round_type        category\n",
      "funded_month                  int8\n",
      "funded_quarter            category\n",
      "funded_year                  int16\n",
      "raised_amount_usd          float64\n",
      "funded_day                    int8\n",
      "dtype: object\n"
     ]
    },
    {
     "data": {
      "text/html": [
       "<div>\n",
       "<table border=\"1\" class=\"dataframe\">\n",
       "  <thead>\n",
       "    <tr style=\"text-align: right;\">\n",
       "      <th></th>\n",
       "      <th>cid</th>\n",
       "      <th>name</th>\n",
       "      <th>type</th>\n",
       "      <th>notnull</th>\n",
       "      <th>dflt_value</th>\n",
       "      <th>pk</th>\n",
       "    </tr>\n",
       "  </thead>\n",
       "  <tbody>\n",
       "    <tr>\n",
       "      <th>0</th>\n",
       "      <td>0</td>\n",
       "      <td>index</td>\n",
       "      <td>INTEGER</td>\n",
       "      <td>0</td>\n",
       "      <td>None</td>\n",
       "      <td>0</td>\n",
       "    </tr>\n",
       "    <tr>\n",
       "      <th>1</th>\n",
       "      <td>1</td>\n",
       "      <td>company_name</td>\n",
       "      <td>TEXT</td>\n",
       "      <td>0</td>\n",
       "      <td>None</td>\n",
       "      <td>0</td>\n",
       "    </tr>\n",
       "    <tr>\n",
       "      <th>2</th>\n",
       "      <td>2</td>\n",
       "      <td>company_category_code</td>\n",
       "      <td>TEXT</td>\n",
       "      <td>0</td>\n",
       "      <td>None</td>\n",
       "      <td>0</td>\n",
       "    </tr>\n",
       "    <tr>\n",
       "      <th>3</th>\n",
       "      <td>3</td>\n",
       "      <td>company_country_code</td>\n",
       "      <td>TEXT</td>\n",
       "      <td>0</td>\n",
       "      <td>None</td>\n",
       "      <td>0</td>\n",
       "    </tr>\n",
       "    <tr>\n",
       "      <th>4</th>\n",
       "      <td>4</td>\n",
       "      <td>company_state_code</td>\n",
       "      <td>TEXT</td>\n",
       "      <td>0</td>\n",
       "      <td>None</td>\n",
       "      <td>0</td>\n",
       "    </tr>\n",
       "    <tr>\n",
       "      <th>5</th>\n",
       "      <td>5</td>\n",
       "      <td>company_region</td>\n",
       "      <td>TEXT</td>\n",
       "      <td>0</td>\n",
       "      <td>None</td>\n",
       "      <td>0</td>\n",
       "    </tr>\n",
       "    <tr>\n",
       "      <th>6</th>\n",
       "      <td>6</td>\n",
       "      <td>company_city</td>\n",
       "      <td>TEXT</td>\n",
       "      <td>0</td>\n",
       "      <td>None</td>\n",
       "      <td>0</td>\n",
       "    </tr>\n",
       "    <tr>\n",
       "      <th>7</th>\n",
       "      <td>7</td>\n",
       "      <td>investor_name</td>\n",
       "      <td>TEXT</td>\n",
       "      <td>0</td>\n",
       "      <td>None</td>\n",
       "      <td>0</td>\n",
       "    </tr>\n",
       "    <tr>\n",
       "      <th>8</th>\n",
       "      <td>8</td>\n",
       "      <td>investor_category_code</td>\n",
       "      <td>TEXT</td>\n",
       "      <td>0</td>\n",
       "      <td>None</td>\n",
       "      <td>0</td>\n",
       "    </tr>\n",
       "    <tr>\n",
       "      <th>9</th>\n",
       "      <td>9</td>\n",
       "      <td>investor_country_code</td>\n",
       "      <td>TEXT</td>\n",
       "      <td>0</td>\n",
       "      <td>None</td>\n",
       "      <td>0</td>\n",
       "    </tr>\n",
       "    <tr>\n",
       "      <th>10</th>\n",
       "      <td>10</td>\n",
       "      <td>investor_state_code</td>\n",
       "      <td>TEXT</td>\n",
       "      <td>0</td>\n",
       "      <td>None</td>\n",
       "      <td>0</td>\n",
       "    </tr>\n",
       "    <tr>\n",
       "      <th>11</th>\n",
       "      <td>11</td>\n",
       "      <td>investor_region</td>\n",
       "      <td>TEXT</td>\n",
       "      <td>0</td>\n",
       "      <td>None</td>\n",
       "      <td>0</td>\n",
       "    </tr>\n",
       "    <tr>\n",
       "      <th>12</th>\n",
       "      <td>12</td>\n",
       "      <td>investor_city</td>\n",
       "      <td>TEXT</td>\n",
       "      <td>0</td>\n",
       "      <td>None</td>\n",
       "      <td>0</td>\n",
       "    </tr>\n",
       "    <tr>\n",
       "      <th>13</th>\n",
       "      <td>13</td>\n",
       "      <td>funding_round_type</td>\n",
       "      <td>TEXT</td>\n",
       "      <td>0</td>\n",
       "      <td>None</td>\n",
       "      <td>0</td>\n",
       "    </tr>\n",
       "    <tr>\n",
       "      <th>14</th>\n",
       "      <td>14</td>\n",
       "      <td>funded_month</td>\n",
       "      <td>INTEGER</td>\n",
       "      <td>0</td>\n",
       "      <td>None</td>\n",
       "      <td>0</td>\n",
       "    </tr>\n",
       "    <tr>\n",
       "      <th>15</th>\n",
       "      <td>15</td>\n",
       "      <td>funded_quarter</td>\n",
       "      <td>TEXT</td>\n",
       "      <td>0</td>\n",
       "      <td>None</td>\n",
       "      <td>0</td>\n",
       "    </tr>\n",
       "    <tr>\n",
       "      <th>16</th>\n",
       "      <td>16</td>\n",
       "      <td>funded_year</td>\n",
       "      <td>INTEGER</td>\n",
       "      <td>0</td>\n",
       "      <td>None</td>\n",
       "      <td>0</td>\n",
       "    </tr>\n",
       "    <tr>\n",
       "      <th>17</th>\n",
       "      <td>17</td>\n",
       "      <td>raised_amount_usd</td>\n",
       "      <td>REAL</td>\n",
       "      <td>0</td>\n",
       "      <td>None</td>\n",
       "      <td>0</td>\n",
       "    </tr>\n",
       "    <tr>\n",
       "      <th>18</th>\n",
       "      <td>18</td>\n",
       "      <td>funded_day</td>\n",
       "      <td>INTEGER</td>\n",
       "      <td>0</td>\n",
       "      <td>None</td>\n",
       "      <td>0</td>\n",
       "    </tr>\n",
       "  </tbody>\n",
       "</table>\n",
       "</div>"
      ],
      "text/plain": [
       "    cid                    name     type  notnull dflt_value  pk\n",
       "0     0                   index  INTEGER        0       None   0\n",
       "1     1            company_name     TEXT        0       None   0\n",
       "2     2   company_category_code     TEXT        0       None   0\n",
       "3     3    company_country_code     TEXT        0       None   0\n",
       "4     4      company_state_code     TEXT        0       None   0\n",
       "5     5          company_region     TEXT        0       None   0\n",
       "6     6            company_city     TEXT        0       None   0\n",
       "7     7           investor_name     TEXT        0       None   0\n",
       "8     8  investor_category_code     TEXT        0       None   0\n",
       "9     9   investor_country_code     TEXT        0       None   0\n",
       "10   10     investor_state_code     TEXT        0       None   0\n",
       "11   11         investor_region     TEXT        0       None   0\n",
       "12   12           investor_city     TEXT        0       None   0\n",
       "13   13      funding_round_type     TEXT        0       None   0\n",
       "14   14            funded_month  INTEGER        0       None   0\n",
       "15   15          funded_quarter     TEXT        0       None   0\n",
       "16   16             funded_year  INTEGER        0       None   0\n",
       "17   17       raised_amount_usd     REAL        0       None   0\n",
       "18   18              funded_day  INTEGER        0       None   0"
      ]
     },
     "execution_count": 6,
     "metadata": {},
     "output_type": "execute_result"
    }
   ],
   "source": [
    "import sqlite3\n",
    "conn = sqlite3.connect(\"investments.db\")\n",
    "\n",
    "data_iter = pd.read_csv(\"crunchbase-investments.csv\", chunksize=5000, \n",
    "                        encoding='latin1')\n",
    "itera = 0\n",
    "for chunk in data_iter:\n",
    "    # Optimize the numerical columns\n",
    "    ###### filter out null values\n",
    "    chunk = chunk[chunk[\"funded_at\"].notnull()]\n",
    "    chunk[\"funded_day\"] = [c.split(\"-\")[2] for c in chunk[\"funded_at\"]]\n",
    "    chunk[\"funded_month\"] = [c.split(\"-\")[1] for c in chunk[\"funded_at\"]]\n",
    "    int_col_list = [\"funded_day\", \"funded_month\", \"funded_year\", \"raised_amount_usd\"]\n",
    "    for col in int_col_list :\n",
    "        chunk[col] = pd.to_numeric(chunk[col], downcast='integer')\n",
    "    chunk[\"raised_amount_usd\"] = pd.to_numeric(chunk[\"raised_amount_usd\"].astype(\"object\"), downcast='integer')\n",
    "    # Optimize text columns\n",
    "    chunk[\"funded_quarter\"] = [c.split(\"-\")[1] for c in chunk[\"funded_quarter\"]]\n",
    "    for col in to_catogorical:\n",
    "        chunk[col] = chunk[col].astype(\"category\")\n",
    "    #drop the columns that are not useful in analysis\n",
    "    chunk = chunk.drop(['investor_permalink', 'funded_at', 'company_permalink'], axis=1)\n",
    "    if itera == 0:\n",
    "        new_dtype_dict = chunk.dtypes\n",
    "        itera += 1\n",
    "    chunk.to_sql(\"cr_investment\", conn, if_exists=\"append\")\n",
    "print_result(\"New data types\", new_dtype_dict)\n",
    "pd.read_sql(\"PRAGMA table_info(cr_investment)\", conn)"
   ]
  },
  {
   "cell_type": "markdown",
   "metadata": {
    "collapsed": true
   },
   "source": [
    "Data Exploration And Analysis\n",
    "=="
   ]
  },
  {
   "cell_type": "markdown",
   "metadata": {},
   "source": [
    "**What proportion of the total amount of funds did the top 10% raise? What about the top 1%? How about the bottom 10% and bottom 1%?**"
   ]
  },
  {
   "cell_type": "code",
   "execution_count": 7,
   "metadata": {
    "collapsed": false
   },
   "outputs": [
    {
     "name": "stdout",
     "output_type": "stream",
     "text": [
      "---------------------------\n",
      "Total fund amount - Top 10%\n",
      "---------------------------\n",
      "540874790708.0\n",
      "--------------------------\n",
      "Total fund amount - Top 1%\n",
      "--------------------------\n",
      "230616000000.0\n",
      "------------------------------\n",
      "Total fund amount - Bottom 10%\n",
      "------------------------------\n",
      "40223396.0\n",
      "-----------------------------\n",
      "Total fund amount - Bottom 1%\n",
      "-----------------------------\n",
      "1560000.0\n"
     ]
    }
   ],
   "source": [
    "sum_top_10_per = '''SELECT SUM(selected)\n",
    "FROM (SELECT raised_amount_usd AS selected\n",
    "FROM (SELECT raised_amount_usd FROM cr_investment \n",
    "WHERE raised_amount_usd IS NOT NULL)\n",
    "ORDER BY raised_amount_usd DESC\n",
    "LIMIT (SELECT ROUND(0.01*COUNT(*)) AS tem_per FROM cr_investment));\n",
    "'''\n",
    "\n",
    "sum_top_1_per = '''SELECT SUM(selected)\n",
    "FROM (SELECT raised_amount_usd AS selected\n",
    "FROM (SELECT raised_amount_usd FROM cr_investment \n",
    "WHERE raised_amount_usd IS NOT NULL) \n",
    "ORDER BY raised_amount_usd DESC \n",
    "LIMIT (SELECT ROUND(0.001*COUNT(*)) AS tem_per FROM cr_investment));\n",
    "'''\n",
    "\n",
    "sum_bot_10_per = '''SELECT SUM(selected)\n",
    "FROM (SELECT raised_amount_usd AS selected\n",
    "FROM (SELECT raised_amount_usd FROM cr_investment \n",
    "WHERE raised_amount_usd IS NOT NULL) \n",
    "ORDER BY raised_amount_usd\n",
    "LIMIT (SELECT ROUND(0.01*COUNT(*)) AS tem_per FROM cr_investment));\n",
    "'''\n",
    "\n",
    "sum_bot_1_per = '''SELECT SUM(selected)\n",
    "FROM (SELECT raised_amount_usd AS selected\n",
    "FROM (SELECT raised_amount_usd FROM cr_investment \n",
    "WHERE raised_amount_usd IS NOT NULL) \n",
    "ORDER BY raised_amount_usd\n",
    "LIMIT (SELECT ROUND(0.001*COUNT(*)) AS tem_per FROM cr_investment));\n",
    "'''\n",
    "\n",
    "print_result(\"Total fund amount - Top 10%\",\n",
    "             pd.read_sql(sum_top_10_per, conn)['SUM(selected)'][0])\n",
    "print_result(\"Total fund amount - Top 1%\",\n",
    "             pd.read_sql(sum_top_1_per, conn)['SUM(selected)'][0])\n",
    "print_result(\"Total fund amount - Bottom 10%\",\n",
    "             pd.read_sql(sum_bot_10_per, conn)['SUM(selected)'][0])\n",
    "print_result(\"Total fund amount - Bottom 1%\",\n",
    "             pd.read_sql(sum_bot_1_per, conn)['SUM(selected)'][0])\n"
   ]
  },
  {
   "cell_type": "markdown",
   "metadata": {},
   "source": [
    "**Which category of company attracted the most investments?**"
   ]
  },
  {
   "cell_type": "code",
   "execution_count": 8,
   "metadata": {
    "collapsed": false
   },
   "outputs": [
    {
     "name": "stdout",
     "output_type": "stream",
     "text": [
      "-----------------------------------\n",
      "Company category - Most investments\n",
      "-----------------------------------\n",
      "  company_category_code  SUM(raised_amount_usd)  COUNT(company_category_code)\n",
      "0               biotech            4.415857e+11                         19440\n"
     ]
    }
   ],
   "source": [
    "most_attractive_cat = '''\n",
    "SELECT company_category_code, SUM(raised_amount_usd), COUNT(company_category_code)\n",
    "FROM (SELECT * FROM cr_investment WHERE raised_amount_usd IS NOT NULL)\n",
    "GROUP BY company_category_code\n",
    "ORDER BY SUM(raised_amount_usd) DESC\n",
    "LIMIT 1\n",
    "'''\n",
    "print_result(\"Company category - Most investments\",\n",
    "             pd.read_sql(most_attractive_cat, conn))"
   ]
  },
  {
   "cell_type": "markdown",
   "metadata": {},
   "source": [
    "**Which investor contributed the most money (across all startups)? Which investors contributed the most money per startup?**"
   ]
  },
  {
   "cell_type": "code",
   "execution_count": 9,
   "metadata": {
    "collapsed": false
   },
   "outputs": [
    {
     "name": "stdout",
     "output_type": "stream",
     "text": [
      "---------------------------------------\n",
      "Most contributed investor - All startup\n",
      "---------------------------------------\n",
      "                      investor_name  SUM(raised_amount_usd)  \\\n",
      "0  Kleiner Perkins Caufield & Byers            4.487131e+10   \n",
      "\n",
      "   COUNT(investor_name)  \n",
      "0                  1500  \n",
      "---------------------------------------\n",
      "Most contributed investor - Per startup\n",
      "---------------------------------------\n",
      "  investor_name  raised_amount_usd\n",
      "0   BrightHouse       3.200000e+09\n"
     ]
    }
   ],
   "source": [
    "most_investor_sum = '''\n",
    "SELECT investor_name, SUM(raised_amount_usd), COUNT(investor_name)\n",
    "FROM (SELECT * FROM cr_investment WHERE raised_amount_usd IS NOT NULL)\n",
    "GROUP BY investor_name\n",
    "ORDER BY SUM(raised_amount_usd) DESC\n",
    "LIMIT 1\n",
    "'''\n",
    "most_investor_per = '''\n",
    "SELECT investor_name, raised_amount_usd\n",
    "FROM (SELECT * FROM cr_investment WHERE raised_amount_usd IS NOT NULL)\n",
    "ORDER BY raised_amount_usd DESC\n",
    "LIMIT 1\n",
    "'''\n",
    "print_result(\"Most contributed investor - All startup\",\n",
    "             pd.read_sql(most_investor_sum, conn))\n",
    "print_result(\"Most contributed investor - Per startup\",\n",
    "             pd.read_sql(most_investor_per, conn))"
   ]
  },
  {
   "cell_type": "markdown",
   "metadata": {},
   "source": [
    "**Which funding round was the most popular? Which was the least popular?**"
   ]
  },
  {
   "cell_type": "code",
   "execution_count": 10,
   "metadata": {
    "collapsed": false
   },
   "outputs": [
    {
     "name": "stdout",
     "output_type": "stream",
     "text": [
      "------------------\n",
      "Most popular round\n",
      "------------------\n",
      "  funding_round_type  SUM(raised_amount_usd)  COUNT(funding_round_type)\n",
      "0          series-c+            1.063014e+12                      43056\n"
     ]
    }
   ],
   "source": [
    "most_popular_round = '''\n",
    "SELECT funding_round_type, SUM(raised_amount_usd), COUNT(funding_round_type)\n",
    "FROM (SELECT * FROM cr_investment WHERE raised_amount_usd IS NOT NULL)\n",
    "GROUP BY funding_round_type\n",
    "ORDER BY SUM(raised_amount_usd) DESC\n",
    "LIMIT 1\n",
    "'''\n",
    "print_result(\"Most popular round\",\n",
    "             pd.read_sql(most_popular_round, conn))"
   ]
  }
 ],
 "metadata": {
  "anaconda-cloud": {},
  "kernelspec": {
   "display_name": "Python 3",
   "language": "python",
   "name": "python3"
  },
  "language_info": {
   "codemirror_mode": {
    "name": "ipython",
    "version": 3
   },
   "file_extension": ".py",
   "mimetype": "text/x-python",
   "name": "python",
   "nbconvert_exporter": "python",
   "pygments_lexer": "ipython3",
   "version": "3.4.3"
  }
 },
 "nbformat": 4,
 "nbformat_minor": 2
}
