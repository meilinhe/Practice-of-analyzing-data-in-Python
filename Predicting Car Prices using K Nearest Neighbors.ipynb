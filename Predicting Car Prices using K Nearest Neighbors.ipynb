{
 "cells": [
  {
   "cell_type": "markdown",
   "metadata": {
    "collapsed": true
   },
   "source": [
    "Read in &cleansing data\n",
    "=="
   ]
  },
  {
   "cell_type": "code",
   "execution_count": 1,
   "metadata": {
    "collapsed": false
   },
   "outputs": [
    {
     "name": "stdout",
     "output_type": "stream",
     "text": [
      "============\n",
      "display head\n",
      "============\n",
      "   symboling normalized-losses         make fuel-type aspiration num-of-doors  \\\n",
      "0          3                 ?  alfa-romero       gas        std          two   \n",
      "1          3                 ?  alfa-romero       gas        std          two   \n",
      "2          1                 ?  alfa-romero       gas        std          two   \n",
      "\n",
      "    body-style drive-wheels engine-location  wheel-base  ...    engine-size  \\\n",
      "0  convertible          rwd           front        88.6  ...            130   \n",
      "1  convertible          rwd           front        88.6  ...            130   \n",
      "2    hatchback          rwd           front        94.5  ...            152   \n",
      "\n",
      "   fuel-system  bore  stroke compression-ratio horsepower  peak-rpm city-mpg  \\\n",
      "0         mpfi  3.47    2.68               9.0        111      5000       21   \n",
      "1         mpfi  3.47    2.68               9.0        111      5000       21   \n",
      "2         mpfi  2.68    3.47               9.0        154      5000       19   \n",
      "\n",
      "  highway-mpg  price  \n",
      "0          27  13495  \n",
      "1          27  16500  \n",
      "2          26  16500  \n",
      "\n",
      "[3 rows x 26 columns]\n"
     ]
    }
   ],
   "source": [
    "import pandas as pd\n",
    "cars = pd.read_csv(\"imports-85.data\", header=None)\n",
    "#header is missing from dataset, assign manually\n",
    "cars.columns = [\"symboling\", \"normalized-losses\", \"make\", \"fuel-type\", \"aspiration\", \"num-of-doors\", \"body-style\", \"drive-wheels\", \"engine-location\", \"wheel-base\", \"length\", \"width\", \"height\", \"curb-weight\", \"engine-type\", \"num-of-cylinders\", \"engine-size\", \"fuel-system\", \"bore\", \"stroke\", \"compression-ratio\", \"horsepower\", \"peak-rpm\", \"city-mpg\", \"highway-mpg\", \"price\"]\n",
    "def print_title(title, to_print):\n",
    "    print(\"=\"*len(title))\n",
    "    print(title)\n",
    "    print(\"=\"*len(title))\n",
    "    print(to_print)\n",
    "    \n",
    "print_title(\"display head\", cars.head(3))"
   ]
  },
  {
   "cell_type": "markdown",
   "metadata": {},
   "source": [
    "Observations:\n",
    "1. Target column: price\n",
    "2. Feature columns: all the rest cols. \n",
    "3. We should normalize value cols before analyzing."
   ]
  },
  {
   "cell_type": "code",
   "execution_count": 2,
   "metadata": {
    "collapsed": false,
    "scrolled": true
   },
   "outputs": [
    {
     "name": "stdout",
     "output_type": "stream",
     "text": [
      "==========\n",
      "total rows\n",
      "==========\n",
      "205\n",
      "=============================\n",
      "display na count for each col\n",
      "=============================\n",
      "symboling            0\n",
      "make                 0\n",
      "fuel-type            0\n",
      "aspiration           0\n",
      "num-of-doors         0\n",
      "body-style           0\n",
      "drive-wheels         0\n",
      "engine-location      0\n",
      "wheel-base           0\n",
      "length               0\n",
      "width                0\n",
      "height               0\n",
      "curb-weight          0\n",
      "engine-type          0\n",
      "num-of-cylinders     0\n",
      "engine-size          0\n",
      "fuel-system          0\n",
      "bore                 0\n",
      "stroke               0\n",
      "compression-ratio    0\n",
      "horsepower           0\n",
      "peak-rpm             0\n",
      "city-mpg             0\n",
      "highway-mpg          0\n",
      "price                0\n",
      "dtype: int64\n"
     ]
    }
   ],
   "source": [
    "import numpy as np\n",
    "cars = cars.replace(\"?\", np.nan)\n",
    "num_cols = [\"symboling\", \"normalized-losses\", \"wheel-base\", \"length\", \"width\", \"height\", \"curb-weight\", \"engine-size\", \"bore\", \"stroke\", \"compression-ratio\", \"horsepower\", \"peak-rpm\", \"city-mpg\", \"highway-mpg\", \"price\"]\n",
    "cars[num_cols] = cars[num_cols].astype(\"float\")\n",
    "print_title(\"total rows\", cars.shape[0])\n",
    "\n",
    "#drop normalized-losses col\n",
    "cars = cars.drop(\"normalized-losses\", 1)\n",
    "#drop rows with nan in cols listed below\n",
    "cols_w_nan = [\"num-of-doors\", \"bore\", \"stroke\", \"horsepower\", \"peak-rpm\", \"price\"]\n",
    "cars = cars.dropna()\n",
    "print_title(\"display na count for each col\", cars.isnull().sum())\n",
    "cars_num = cars.select_dtypes(include=[\"float\"])\n",
    "cars_normalized = (cars_num - cars_num.mean()) / cars_num.std()"
   ]
  },
  {
   "cell_type": "markdown",
   "metadata": {},
   "source": [
    "Univariate models\n",
    "=="
   ]
  },
  {
   "cell_type": "code",
   "execution_count": 3,
   "metadata": {
    "collapsed": false
   },
   "outputs": [
    {
     "name": "stdout",
     "output_type": "stream",
     "text": [
      "mean of rmse: 6609.7622065\n",
      "std of rmse: 3084.60037279\n"
     ]
    },
    {
     "data": {
      "image/png": "[encoded data removed]",
      "text/plain": [
       "<matplotlib.figure.Figure at 0x7f8b9c561080>"
      ]
     },
     "metadata": {},
     "output_type": "display_data"
    },
    {
     "name": "stdout",
     "output_type": "stream",
     "text": [
      "mean of rmse: 5158.95183212\n",
      "std of rmse: 1665.83315616\n"
     ]
    },
    {
     "data": {
      "image/png": "[encoded data removed]",
      "text/plain": [
       "<matplotlib.figure.Figure at 0x7f8b9c2b5390>"
      ]
     },
     "metadata": {},
     "output_type": "display_data"
    },
    {
     "name": "stdout",
     "output_type": "stream",
     "text": [
      "mean of rmse: 5138.74471388\n",
      "std of rmse: 1495.99221123\n"
     ]
    },
    {
     "data": {
      "image/png": "[encoded data removed]",
      "text/plain": [
       "<matplotlib.figure.Figure at 0x7f8b969e8320>"
      ]
     },
     "metadata": {},
     "output_type": "display_data"
    },
    {
     "name": "stdout",
     "output_type": "stream",
     "text": [
      "mean of rmse: 5235.99125442\n",
      "std of rmse: 1528.92250334\n"
     ]
    },
    {
     "data": {
      "image/png": "[encoded data removed]",
      "text/plain": [
       "<matplotlib.figure.Figure at 0x7f8b9497d6a0>"
      ]
     },
     "metadata": {},
     "output_type": "display_data"
    },
    {
     "name": "stdout",
     "output_type": "stream",
     "text": [
      "mean of rmse: 5254.83627393\n",
      "std of rmse: 1646.83519253\n"
     ]
    },
    {
     "data": {
      "image/png": "[encoded data removed]",
      "text/plain": [
       "<matplotlib.figure.Figure at 0x7f8b948fba20>"
      ]
     },
     "metadata": {},
     "output_type": "display_data"
    }
   ],
   "source": [
    "import math\n",
    "from sklearn.neighbors import KNeighborsRegressor\n",
    "from sklearn.metrics import mean_squared_error\n",
    "import matplotlib.pyplot as plt\n",
    "%matplotlib inline\n",
    "\n",
    "def knn_train_test(training_cols, target_col, df, k_values):\n",
    "    \n",
    "    #randomize\n",
    "    np.random.seed(1)\n",
    "    shuffled_idx = np.random.permutation(df.index)\n",
    "    df = df.loc[shuffled_idx]\n",
    "    \n",
    "    #split dataset\n",
    "    split_point = math.ceil(len(df)*0.75)\n",
    "    train = df[:split_point-1]\n",
    "    test = df[split_point-1:]\n",
    "    \n",
    "    #train/test/plot\n",
    "    for k in k_values:\n",
    "        rmse_list = []\n",
    "        rmse_dict = {}\n",
    "        for training_col in training_cols:\n",
    "            knn = KNeighborsRegressor(k)\n",
    "            knn.fit(train[[training_col]], train[target_col])\n",
    "            pred = knn.predict(test[[training_col]])\n",
    "            rmse = mean_squared_error(test[target_col], pred)**0.5\n",
    "            rmse_list.append(rmse)\n",
    "            rmse_dict[training_col] = rmse\n",
    "        rmse_k_sorted_keys = sorted(rmse_dict, key=rmse_dict.get, reverse=False)\n",
    "        #for col in rmse_k_sorted_keys:\n",
    "            #print (col, rmse_dict[col])\n",
    "        print(\"mean of rmse:\", np.mean(rmse_list))\n",
    "        print(\"std of rmse:\", np.std(rmse_list))\n",
    "        plt.hist(rmse_list)\n",
    "        plt.show()\n",
    "\n",
    "train_col = list(cars_normalized.columns)\n",
    "train_col.remove(\"price\") \n",
    "#list.remove() method does not return anything, DO NOT assign it back to the list\n",
    "k_values = [1, 3, 5, 7, 9]\n",
    "knn_train_test(train_col, \"price\", cars, k_values)\n"
   ]
  },
  {
   "cell_type": "markdown",
   "metadata": {},
   "source": [
    "Multivariate models\n",
    "=="
   ]
  },
  {
   "cell_type": "code",
   "execution_count": 24,
   "metadata": {
    "collapsed": false
   },
   "outputs": [
    {
     "name": "stdout",
     "output_type": "stream",
     "text": [
      "============\n",
      "all features\n",
      "============\n",
      "('rmse:', 2182.3281926438481)\n"
     ]
    }
   ],
   "source": [
    "def knn_train_test_multi(training_cols, target_col, df, k_values):\n",
    "    \n",
    "    #randomize\n",
    "    np.random.seed(1)\n",
    "    shuffled_idx = np.random.permutation(df.index)\n",
    "    df = df.loc[shuffled_idx]\n",
    "    \n",
    "    #split dataset\n",
    "    split_point = math.ceil(len(df)*0.75)\n",
    "    train = df[:split_point-1]\n",
    "    test = df[split_point-1:]\n",
    "    \n",
    "    #train/test/plot\n",
    "    if k_values == None:\n",
    "        knn = KNeighborsRegressor()\n",
    "        knn.fit(train[training_cols], train[target_col])\n",
    "        pred = knn.predict(test[training_cols])\n",
    "        rmse = mean_squared_error(test[target_col], pred)**0.5\n",
    "        return \"rmse:\", rmse\n",
    "    else:\n",
    "        print(0)\n",
    "        rmse_w_k = {}\n",
    "        for k in k_values:\n",
    "            knn = KNeighborsRegressor(k)\n",
    "            knn.fit(train[training_cols], train[target_col])\n",
    "            pred = knn.predict(test[training_cols])\n",
    "            rmse = mean_squared_error(test[target_col], pred)**0.5\n",
    "            rmse_w_k[k] = rmse\n",
    "            rmse_sorted_k = sorted(rmse_w_k, key=rmse_w_k.get, reverse=False)\n",
    "            #for col in rmse_k_sorted_keys:\n",
    "                #print (col, rmse_dict[col])\n",
    "            return \"rmse:\", rmse\n",
    "\n",
    "train_col = list(cars_normalized.columns)\n",
    "train_col.remove(\"price\") \n",
    "#list.remove() method does not return anything, DO NOT assign it back to the list\n",
    "print_title(\"all features\", knn_train_test_multi(train_col, \"price\", cars, None))\n"
   ]
  }
 ],
 "metadata": {
  "kernelspec": {
   "display_name": "Python 3",
   "language": "python",
   "name": "python3"
  },
  "language_info": {
   "codemirror_mode": {
    "name": "ipython",
    "version": 3
   },
   "file_extension": ".py",
   "mimetype": "text/x-python",
   "name": "python",
   "nbconvert_exporter": "python",
   "pygments_lexer": "ipython3",
   "version": "3.4.3"
  }
 },
 "nbformat": 4,
 "nbformat_minor": 2
}
